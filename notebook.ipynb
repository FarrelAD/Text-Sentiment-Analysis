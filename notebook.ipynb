{
 "cells": [
  {
   "cell_type": "markdown",
   "metadata": {},
   "source": [
    "# Install necessary dependency"
   ]
  },
  {
   "cell_type": "code",
   "execution_count": 7,
   "metadata": {
    "_cell_guid": "b1076dfc-b9ad-4769-8c92-a6c4dae69d19",
    "_uuid": "8f2839f25d086af736a60e9eeb907d3b93b6e0e5",
    "execution": {
     "iopub.execute_input": "2025-01-29T12:57:31.026112Z",
     "iopub.status.busy": "2025-01-29T12:57:31.025179Z",
     "iopub.status.idle": "2025-01-29T12:57:35.521390Z",
     "shell.execute_reply": "2025-01-29T12:57:35.519961Z",
     "shell.execute_reply.started": "2025-01-29T12:57:31.026048Z"
    },
    "trusted": true
   },
   "outputs": [],
   "source": [
    "%pip install pandas numpy scikit-learn nltk datasets --quiet"
   ]
  },
  {
   "cell_type": "markdown",
   "metadata": {},
   "source": [
    "# Data Preparation"
   ]
  },
  {
   "cell_type": "code",
   "execution_count": 11,
   "metadata": {
    "execution": {
     "iopub.execute_input": "2025-01-29T13:01:08.265607Z",
     "iopub.status.busy": "2025-01-29T13:01:08.265280Z",
     "iopub.status.idle": "2025-01-29T13:01:10.798560Z",
     "shell.execute_reply": "2025-01-29T13:01:10.797046Z",
     "shell.execute_reply.started": "2025-01-29T13:01:08.265582Z"
    },
    "trusted": true
   },
   "outputs": [
    {
     "name": "stdout",
     "output_type": "stream",
     "text": [
      "                                              review  sentiment\n",
      "0  I rented I AM CURIOUS-YELLOW from my video sto...          0\n",
      "1  \"I Am Curious: Yellow\" is a risible and preten...          0\n",
      "2  If only to avoid making this type of film in t...          0\n",
      "3  This film was probably inspired by Godard's Ma...          0\n",
      "4  Oh, brother...after hearing about this ridicul...          0\n"
     ]
    }
   ],
   "source": [
    "from datasets import load_dataset\n",
    "\n",
    "dataset = load_dataset(\"imdb\")\n",
    "\n",
    "df = dataset[\"train\"].to_pandas()\n",
    "\n",
    "df = df.rename(columns={\"text\": \"review\", \"label\": \"sentiment\"})\n",
    "\n",
    "print(df.head())"
   ]
  },
  {
   "cell_type": "markdown",
   "metadata": {},
   "source": [
    "## Split data"
   ]
  },
  {
   "cell_type": "code",
   "execution_count": 16,
   "metadata": {
    "execution": {
     "iopub.execute_input": "2025-01-29T13:06:02.037084Z",
     "iopub.status.busy": "2025-01-29T13:06:02.036598Z",
     "iopub.status.idle": "2025-01-29T13:06:02.056558Z",
     "shell.execute_reply": "2025-01-29T13:06:02.054931Z",
     "shell.execute_reply.started": "2025-01-29T13:06:02.037050Z"
    },
    "trusted": true
   },
   "outputs": [],
   "source": [
    "train_texts, test_texts, train_labels, test_labels = train_test_split(\n",
    "    df['review'], df['sentiment'], test_size=0.2, random_state=42\n",
    ")"
   ]
  },
  {
   "cell_type": "markdown",
   "metadata": {},
   "source": [
    "# Text Preprocessing"
   ]
  },
  {
   "cell_type": "code",
   "execution_count": 20,
   "metadata": {
    "execution": {
     "iopub.execute_input": "2025-01-29T13:12:18.858895Z",
     "iopub.status.busy": "2025-01-29T13:12:18.858420Z",
     "iopub.status.idle": "2025-01-29T13:12:42.748216Z",
     "shell.execute_reply": "2025-01-29T13:12:42.747068Z",
     "shell.execute_reply.started": "2025-01-29T13:12:18.858865Z"
    },
    "trusted": true
   },
   "outputs": [
    {
     "name": "stdout",
     "output_type": "stream",
     "text": [
      "[nltk_data] Downloading package stopwords to /usr/share/nltk_data...\n",
      "[nltk_data]   Package stopwords is already up-to-date!\n",
      "[nltk_data] Downloading package punkt to /usr/share/nltk_data...\n",
      "[nltk_data]   Package punkt is already up-to-date!\n",
      "23311    borrowed movie despite extremely low rating wa...\n",
      "23623    unexpected accident killed inexperienced climb...\n",
      "1020     summer blockbuster hit baseketball one movies ...\n",
      "12645    scarcely imagine better movie thishey go chick...\n",
      "1533     still famous decadent actor morgan freeman fil...\n",
      "Name: review, dtype: object\n"
     ]
    }
   ],
   "source": [
    "import re\n",
    "import nltk\n",
    "from nltk.corpus import stopwords\n",
    "from nltk.tokenize import word_tokenize\n",
    "\n",
    "nltk.download('stopwords')\n",
    "nltk.download('punkt')\n",
    "\n",
    "stop_words = set(stopwords.words('english'))\n",
    "\n",
    "def preprocess_text(text):\n",
    "    text = text.lower()\n",
    "    text = re.sub(r'<[^>]+>', '', text)\n",
    "    text = re.sub(r'[^a-z\\s]', '', text)\n",
    "    words = word_tokenize(text)\n",
    "    words = [word for word in words if word not in stop_words]\n",
    "    return \" \".join(words)\n",
    "\n",
    "train_texts = train_texts.apply(preprocess_text)\n",
    "test_texts = test_texts.apply(preprocess_text)\n",
    "\n",
    "print(train_texts[:5])"
   ]
  },
  {
   "cell_type": "markdown",
   "metadata": {},
   "source": [
    "# Convert Text to Vectors"
   ]
  },
  {
   "cell_type": "code",
   "execution_count": 13,
   "metadata": {
    "execution": {
     "iopub.execute_input": "2025-01-29T13:02:12.626049Z",
     "iopub.status.busy": "2025-01-29T13:02:12.625526Z",
     "iopub.status.idle": "2025-01-29T13:02:16.020944Z",
     "shell.execute_reply": "2025-01-29T13:02:16.019804Z",
     "shell.execute_reply.started": "2025-01-29T13:02:12.626014Z"
    },
    "trusted": true
   },
   "outputs": [
    {
     "name": "stdout",
     "output_type": "stream",
     "text": [
      "(20000, 5000)\n"
     ]
    }
   ],
   "source": [
    "from sklearn.feature_extraction.text import TfidfVectorizer\n",
    "\n",
    "vectorizer = TfidfVectorizer(max_features=5000)\n",
    "X_train = vectorizer.fit_transform(train_texts)\n",
    "X_test = vectorizer.transform(test_texts)\n",
    "\n",
    "print(X_train.shape)"
   ]
  },
  {
   "cell_type": "markdown",
   "metadata": {},
   "source": [
    "# Training Model"
   ]
  },
  {
   "cell_type": "code",
   "execution_count": 14,
   "metadata": {
    "execution": {
     "iopub.execute_input": "2025-01-29T13:02:49.218161Z",
     "iopub.status.busy": "2025-01-29T13:02:49.217697Z",
     "iopub.status.idle": "2025-01-29T13:02:49.624852Z",
     "shell.execute_reply": "2025-01-29T13:02:49.623727Z",
     "shell.execute_reply.started": "2025-01-29T13:02:49.218128Z"
    },
    "trusted": true
   },
   "outputs": [
    {
     "name": "stdout",
     "output_type": "stream",
     "text": [
      "Accuracy: 0.88\n"
     ]
    }
   ],
   "source": [
    "from sklearn.linear_model import LogisticRegression\n",
    "from sklearn.metrics import accuracy_score\n",
    "\n",
    "model = LogisticRegression()\n",
    "model.fit(X_train, train_labels)\n",
    "\n",
    "y_pred = model.predict(X_test)\n",
    "\n",
    "accuracy = accuracy_score(test_labels, y_pred)\n",
    "print(f\"Accuracy: {accuracy:.2f}\")"
   ]
  },
  {
   "cell_type": "markdown",
   "metadata": {},
   "source": [
    "# Testing"
   ]
  },
  {
   "cell_type": "code",
   "execution_count": 26,
   "metadata": {
    "execution": {
     "iopub.execute_input": "2025-01-29T13:42:56.798992Z",
     "iopub.status.busy": "2025-01-29T13:42:56.798570Z",
     "iopub.status.idle": "2025-01-29T13:42:56.804722Z",
     "shell.execute_reply": "2025-01-29T13:42:56.803252Z",
     "shell.execute_reply.started": "2025-01-29T13:42:56.798962Z"
    },
    "trusted": true
   },
   "outputs": [],
   "source": [
    "def predict_sentiment(text):\n",
    "    processed_text = preprocess_text(text)\n",
    "    vectorized_text = vectorizer.transform([processed_text])\n",
    "    prediction = model.predict(vectorized_text)[0]\n",
    "    return \"Positive\" if prediction == 1 else \"Negative\""
   ]
  },
  {
   "cell_type": "code",
   "execution_count": 25,
   "metadata": {
    "execution": {
     "iopub.execute_input": "2025-01-29T13:42:31.896579Z",
     "iopub.status.busy": "2025-01-29T13:42:31.896147Z",
     "iopub.status.idle": "2025-01-29T13:42:31.915932Z",
     "shell.execute_reply": "2025-01-29T13:42:31.914252Z",
     "shell.execute_reply.started": "2025-01-29T13:42:31.896550Z"
    },
    "trusted": true
   },
   "outputs": [
    {
     "data": {
      "application/vnd.jupyter.widget-view+json": {
       "model_id": "f7cbcf6c6f4545e798069aac4b8d1c51",
       "version_major": 2,
       "version_minor": 0
      },
      "text/plain": [
       "VBox(children=(Text(value='', description='Input Text:', placeholder='Type something here'), Button(button_sty…"
      ]
     },
     "execution_count": 25,
     "metadata": {},
     "output_type": "execute_result"
    }
   ],
   "source": [
    "import ipywidgets as widgets\n",
    "\n",
    "output = widgets.Output()\n",
    "\n",
    "text_input = widgets.Text(\n",
    "    description='Input Text:', \n",
    "    placeholder='Type something here'\n",
    ")\n",
    "\n",
    "submit_btn = widgets.Button(\n",
    "    description='Submit',\n",
    "    button_style='info'\n",
    ")\n",
    "\n",
    "def process_input(_):\n",
    "    text = text_input.value\n",
    "\n",
    "    with output:\n",
    "        output.clear_output()\n",
    "        print(predict_sentiment(text))\n",
    "\n",
    "submit_btn.on_click(process_input)\n",
    "\n",
    "layout = widgets.VBox([\n",
    "    text_input,\n",
    "    submit_btn,\n",
    "    output\n",
    "])\n",
    "\n",
    "layout"
   ]
  }
 ],
 "metadata": {
  "kaggle": {
   "accelerator": "none",
   "dataSources": [],
   "dockerImageVersionId": 30839,
   "isGpuEnabled": false,
   "isInternetEnabled": true,
   "language": "python",
   "sourceType": "notebook"
  },
  "kernelspec": {
   "display_name": "conda-project-first",
   "language": "python",
   "name": "python3"
  },
  "language_info": {
   "codemirror_mode": {
    "name": "ipython",
    "version": 3
   },
   "file_extension": ".py",
   "mimetype": "text/x-python",
   "name": "python",
   "nbconvert_exporter": "python",
   "pygments_lexer": "ipython3",
   "version": "3.12.3"
  }
 },
 "nbformat": 4,
 "nbformat_minor": 4
}
